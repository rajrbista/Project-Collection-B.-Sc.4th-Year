{
 "cells": [
  {
   "cell_type": "code",
   "execution_count": 1,
   "metadata": {
    "collapsed": false
   },
   "outputs": [
    {
     "data": {
      "text/plain": [
       "[<matplotlib.lines.Line2D at 0xb4afda0>]"
      ]
     },
     "execution_count": 1,
     "metadata": {},
     "output_type": "execute_result"
    }
   ],
   "source": [
    "import numpy as np\n",
    "import matplotlib.pyplot as plt\n",
    "counter = [0]\n",
    "steps = 100\n",
    "for i in range(steps):\n",
    "    r = np.random.rand()\n",
    "    next_num = counter[-1] + r \n",
    "    counter.append(next_num)\n",
    "    \n",
    "#print(counter)\n",
    "plt.plot(counter, 'o')"
   ]
  },
  {
   "cell_type": "code",
   "execution_count": 6,
   "metadata": {
    "collapsed": false
   },
   "outputs": [
    {
     "ename": "TypeError",
     "evalue": "list indices must be integers, not tuple",
     "output_type": "error",
     "traceback": [
      "\u001b[1;31m---------------------------------------------------------------------------\u001b[0m",
      "\u001b[1;31mTypeError\u001b[0m                                 Traceback (most recent call last)",
      "\u001b[1;32m<ipython-input-6-79da4b44eeab>\u001b[0m in \u001b[0;36m<module>\u001b[1;34m()\u001b[0m\n\u001b[0;32m     14\u001b[0m \u001b[1;33m\u001b[0m\u001b[0m\n\u001b[0;32m     15\u001b[0m \u001b[1;31m#print(counter)\u001b[0m\u001b[1;33m\u001b[0m\u001b[1;33m\u001b[0m\u001b[0m\n\u001b[1;32m---> 16\u001b[1;33m \u001b[0mplt\u001b[0m\u001b[1;33m.\u001b[0m\u001b[0mplot\u001b[0m\u001b[1;33m(\u001b[0m\u001b[0mcounter\u001b[0m\u001b[1;33m[\u001b[0m\u001b[1;33m:\u001b[0m\u001b[1;33m,\u001b[0m \u001b[1;36m0\u001b[0m\u001b[1;33m]\u001b[0m\u001b[1;33m,\u001b[0m \u001b[0mcounter\u001b[0m\u001b[1;33m[\u001b[0m\u001b[1;33m:\u001b[0m\u001b[1;33m,\u001b[0m \u001b[1;36m1\u001b[0m\u001b[1;33m]\u001b[0m\u001b[1;33m,\u001b[0m\u001b[1;34m'o-'\u001b[0m\u001b[1;33m)\u001b[0m\u001b[1;33m\u001b[0m\u001b[0m\n\u001b[0m",
      "\u001b[1;31mTypeError\u001b[0m: list indices must be integers, not tuple"
     ]
    }
   ],
   "source": [
    "import numpy as np\n",
    "import matplotlib.pyplot as plt\n",
    "counter = [[0,0], ]\n",
    "steps = 500\n",
    "for i in range(steps):\n",
    "    rx = 2*np.random.rand() -1  #in range(-1, 1)\n",
    "    ry = 2*np.random.rand() -1\n",
    "    \n",
    "    last_pt = np.array(counter[-1])\n",
    "    \n",
    "    r = np.array([rx,ry])\n",
    "    next_pt =last_pt + r\n",
    "    counter.append(next_num)\n",
    "    \n",
    "#print(counter)\n",
    "plt.plot(counter[:, 0], counter[:, 1],'o-')"
   ]
  },
  {
   "cell_type": "code",
   "execution_count": 16,
   "metadata": {
    "collapsed": false
   },
   "outputs": [
    {
     "name": "stdout",
     "output_type": "stream",
     "text": [
      "78425\n",
      "100000\n",
      "('exact value:', 3.141592653589793, 'calculated value:', 3.137, 'error:', -0.1461887041448621, '%')\n"
     ]
    }
   ],
   "source": [
    "#calculation of pie\n",
    "steps = 100000\n",
    "N_circle = 0\n",
    "N_total = 0\n",
    "\n",
    "for i in range (steps):\n",
    "    rx = 2*np.random.rand() -1  #in range(-1, 1)\n",
    "    ry = 2*np.random.rand() -1\n",
    "    \n",
    "    l = np.sqrt(rx**2+ry**2)\n",
    "    if l <= 1.:\n",
    "        N_circle = N_circle +1\n",
    "    N_total = N_total +1\n",
    "print(N_circle)\n",
    "print(N_total)   \n",
    "pi = 4.0 * N_circle/ N_total\n",
    "err = (pi-np.pi)/np.pi *100\n",
    "print('exact value:', np.pi, 'calculated value:', pi, 'error:', err, '%')"
   ]
  },
  {
   "cell_type": "code",
   "execution_count": null,
   "metadata": {
    "collapsed": true
   },
   "outputs": [],
   "source": []
  }
 ],
 "metadata": {
  "kernelspec": {
   "display_name": "Python 2",
   "language": "python",
   "name": "python2"
  },
  "language_info": {
   "codemirror_mode": {
    "name": "ipython",
    "version": 2
   },
   "file_extension": ".py",
   "mimetype": "text/x-python",
   "name": "python",
   "nbconvert_exporter": "python",
   "pygments_lexer": "ipython2",
   "version": "2.7.15"
  }
 },
 "nbformat": 4,
 "nbformat_minor": 0
}
